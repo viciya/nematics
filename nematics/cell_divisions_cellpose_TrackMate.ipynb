{
 "cells": [
  {
   "cell_type": "code",
   "execution_count": 2,
   "metadata": {},
   "outputs": [],
   "source": [
    "import numpy as np\n",
    "import matplotlib.pyplot as plt\n",
    "import cv2\n",
    "from cellpose import plot\n",
    "import os\n",
    "from scipy.signal import find_peaks\n",
    "from skimage.measure import label, regionprops, regionprops_table\n",
    "from skimage.color import label2rgb\n",
    "import pandas as pd\n",
    "import glob\n",
    "from vasco_scripts.defects  import *\n",
    "import pathlib\n",
    "import seaborn as sns\n",
    "from pip._internal.cli.progress_bars import get_download_progress_renderer\n",
    "import warnings\n",
    "warnings.simplefilter(action='ignore', category=FutureWarning)\n",
    "warnings.filterwarnings(\"ignore\")\n",
    "\n",
    "def find_centers(masks):\n",
    "    '''find centers in segmented image b/w or labels'''\n",
    "    regions = regionprops(masks)\n",
    "    x_cent = []\n",
    "    y_cent = []\n",
    "    label_num = []\n",
    "    for i,props in enumerate(regions):\n",
    "        yi, xi = props.centroid\n",
    "        x_cent.append(xi)\n",
    "        y_cent.append(yi)\n",
    "        label_num.append(props.label)\n",
    "        # plt.text(xi, yi, str(i))\n",
    "    return x_cent, y_cent, label_num\n",
    "\n",
    "def brightness(image, mask, labels):\n",
    "    '''measure raw image intenslity for each mask label'''\n",
    "    intensity = []\n",
    "    for l in labels:\n",
    "        intensity.append(image[mask==l].mean())\n",
    "        progressBar(l,len(labels))\n",
    "        \n",
    "    return intensity \n",
    "\n",
    "def center_pairs(Xlong, Xshort):\n",
    "    '''find indexes of Xshort in Xlong'''\n",
    "    from scipy import spatial\n",
    "    tree = spatial.KDTree(Xlong)\n",
    "    _, minid = tree.query(Xshort)   \n",
    "    return minid\n",
    "\n",
    "import sys,time,random\n",
    "def progressBar(count_value, total, suffix=''):\n",
    "    bar_length = 100\n",
    "    filled_up_Length = int(round(bar_length* count_value / float(total)))\n",
    "    percentage = round(100.0 * count_value/float(total),1)\n",
    "    bar = '=' * filled_up_Length + '-' * (bar_length - filled_up_Length)\n",
    "    sys.stdout.write('[%s] %s%s ...%s\\r' %(bar, percentage, '%', suffix))\n",
    "    sys.stdout.flush()\n"
   ]
  },
  {
   "cell_type": "code",
   "execution_count": 3,
   "metadata": {},
   "outputs": [],
   "source": [
    "data_path = r\"C:\\Users\\victo\\Downloads\\SB_lab\\HBEC\\s2(120-919)\\Tracking\\spots_100_500.csv\"\n",
    "track_df = pd.read_csv(data_path, skiprows=[1,2,3]).reset_index()\n",
    "track_df[\"DIVIDING\"] = 0"
   ]
  },
  {
   "cell_type": "code",
   "execution_count": 4,
   "metadata": {},
   "outputs": [],
   "source": [
    "folder = r\"C:\\Users\\victo\\Downloads\\SB_lab\\HBEC\\s2(120-919)\"\n",
    "raw_list = sorted(glob.glob(folder + \"/*.tif\"))\n",
    "mask_list = []\n",
    "for raw in raw_list:\n",
    "    mask_path = os.path.join(\n",
    "        str(pathlib.Path(raw).parents[0]), \n",
    "        \"Mask\", \n",
    "        raw.split(os.sep)[-1].split(\".\")[0]+\"_cp_masks.png\"\n",
    "        )    \n",
    "    mask_list.append(mask_path)\n",
    "div_mask_list = []\n",
    "for raw in raw_list:\n",
    "    mask_path = os.path.join(\n",
    "        str(pathlib.Path(raw).parents[0]), \n",
    "        \"DivMask\", \n",
    "        raw.split(os.sep)[-1].split(\".\")[0]+\"_div_mask.png\"\n",
    "        )    \n",
    "    div_mask_list.append(mask_path)    "
   ]
  },
  {
   "cell_type": "code",
   "execution_count": 7,
   "metadata": {},
   "outputs": [
    {
     "data": {
      "text/plain": [
       "11      1977.776393\n",
       "19       561.707488\n",
       "26      1418.492248\n",
       "36      1042.659144\n",
       "49      1362.138106\n",
       "           ...     \n",
       "2285     570.458937\n",
       "2301      13.174699\n",
       "2316    1908.913470\n",
       "2317    1251.428074\n",
       "2325     239.623400\n",
       "Name: POSITION_X, Length: 166, dtype: float64"
      ]
     },
     "execution_count": 7,
     "metadata": {},
     "output_type": "execute_result"
    }
   ],
   "source": [
    "track_df['POSITION_X'][div_idx]"
   ]
  },
  {
   "cell_type": "code",
   "execution_count": 14,
   "metadata": {},
   "outputs": [
    {
     "name": "stdout",
     "output_type": "stream",
     "text": [
      "[====================================================================================================] 99.8% ....\r"
     ]
    }
   ],
   "source": [
    "%matplotlib qt\n",
    "tresh = 60\n",
    "\n",
    "for i,frame in enumerate(track_df['FRAME'].unique()):\n",
    "    img = cv2.imread(raw_list[i+99])\n",
    "    mask = cv2.imread(mask_list[i+99],flags=cv2.IMREAD_ANYDEPTH)\n",
    "    div_mask = cv2.imread(div_mask_list[i+99],flags=cv2.IMREAD_ANYDEPTH)\n",
    "    x_cent, y_cent, label_num = find_centers(mask)\n",
    "    intensity = brightness(div_mask, mask, label_num)\n",
    "    x_cent, y_cent, intensity = np.array(x_cent), np.array(y_cent), np.array(intensity)\n",
    "\n",
    "    df = track_df[track_df[\"FRAME\"]==frame]\n",
    "    # Register btw points (x,y) of two arrays\n",
    "    # xy_seg[idx[:n]] == xy_track[:n]\n",
    "    xy_seg = np.array([x_cent, y_cent]).T\n",
    "    xy_track = np.array([df['POSITION_X'].values, df['POSITION_Y'].values]).T\n",
    "    idx = center_pairs(\n",
    "        xy_seg, #Long Array\n",
    "        xy_track #Short Array\n",
    "        ) \n",
    "    \n",
    "    track_df['DIVIDING'][df['POSITION_X'][intensity[idx]>tresh].index] = 1\n",
    "\n",
    "    # div_idx = track_df[np.logical_and.reduce((\n",
    "    #     track_df[\"FRAME\"]==frame,\n",
    "    #     track_df[\"DIVIDING\"]==1,))\n",
    "    #     ].index\n",
    "    \n",
    "    # plt.imshow(img)\n",
    "    # # plt.imshow(label2rgb(mask, bg_label=0), alpha=0.2)\n",
    "    # for x,y in zip(df['POSITION_X'], df['POSITION_Y']):\n",
    "    #     plt.plot(x,y,\"*\", color=\"white\", alpha=.3)  \n",
    "\n",
    "    # for x,y in zip(df['POSITION_X'][intensity[idx]>tresh], \n",
    "    #                 df['POSITION_Y'][intensity[idx]>tresh]):\n",
    "    #     plt.plot(x,y,\"D\", color=\"red\", alpha=.3)  \n",
    "\n",
    "    # for x,y in zip(track_df['POSITION_X'][div_idx], \n",
    "    #                 track_df['POSITION_Y'][div_idx]):\n",
    "    #     plt.plot(x,y,\".\", color=\"blue\", alpha=.6)  \n",
    "\n",
    "    # plt.title(raw_list[i+99])\n",
    "    \n",
    "    # break\n",
    "    progressBar(i,len(track_df['FRAME'].unique()))\n",
    "    \n",
    "track_df[['index', 'ID', 'TRACK_ID',\n",
    "       'POSITION_X', 'POSITION_Y', 'POSITION_Z', 'POSITION_T', 'FRAME',\n",
    "       'RADIUS', 'ELLIPSE_X0', 'ELLIPSE_Y0', 'ELLIPSE_MAJOR', 'ELLIPSE_MINOR', 'ELLIPSE_THETA',\n",
    "       'ELLIPSE_ASPECTRATIO', 'AREA', 'PERIMETER', 'CIRCULARITY', 'SOLIDITY',\n",
    "       'SHAPE_INDEX', 'DIVIDING']].to_csv(r\"C:\\Users\\victo\\Downloads\\SB_lab\\HBEC\\s2(120-919)\\Tracking\\spots_100_500_wdivs.csv\")    "
   ]
  },
  {
   "attachments": {},
   "cell_type": "markdown",
   "metadata": {},
   "source": [
    "## Save images with dividing events"
   ]
  },
  {
   "cell_type": "code",
   "execution_count": 111,
   "metadata": {},
   "outputs": [
    {
     "name": "stdout",
     "output_type": "stream",
     "text": [
      "[====================================================================================================] 99.8% ...\r"
     ]
    }
   ],
   "source": [
    "tracks_all = track_df1[\"TRACK_ID\"][track_df1['DIVIDING']==1].unique()\n",
    "colors = plt.cm.tab10(np.linspace(0, 1, num=int(tracks_all.max())))\n",
    "rng = np.random.default_rng()\n",
    "colors = rng.permuted(colors, axis=0)\n",
    "\n",
    "frames = track_df1[\"POSITION_T\"][track_df1['DIVIDING']==1].unique()\n",
    "\n",
    "for frame in frames:\n",
    "    progressBar(frame,len(frames))\n",
    "    im_path = os.path.join(\n",
    "            folder,\n",
    "            \"Trans__\"+str(int(frame)+100)+\".tif\")   \n",
    "    \n",
    "    div_idx = track_df1[\"DIVIDING\"][np.logical_and.reduce((\n",
    "            track_df1[\"POSITION_T\"]==frame,\n",
    "            track_df1[\"DIVIDING\"]==1,\n",
    "            ))].index\n",
    "    x_div = track_df1[\"POSITION_X\"][div_idx]\n",
    "    y_div = track_df1[\"POSITION_Y\"][div_idx]\n",
    "    id = track_df1[\"TRACK_ID\"][div_idx].values.astype(int)\n",
    "    t0 = track_df1[\"T0\"][div_idx].values.astype(int)\n",
    "    t0[:5] = 0\n",
    "\n",
    "    img = cv2.imread(im_path)\n",
    "    d = 20\n",
    "    for xi, yi, iid, it0 in zip(x_div, y_div, id, t0):\n",
    "        if it0:\n",
    "            cv2.rectangle(img, \n",
    "                (int(xi-d),int(yi-d)), (int(xi+d),int(yi+d)), \n",
    "                (100/1.2,165/1.2,0), 2)\n",
    "        # cv2.circle(img, (int(xi),int(yi)), radius=5, color=tuple(255*colors[iid, :3]), thickness=2)\n",
    "        # cv2.putText(img, str(iid), (int(xi),int(yi)), cv2.FONT_HERSHEY_SIMPLEX, 0.5, tuple(255*colors[iid, :3]), 1)\n",
    "    \n",
    "    # plt.imshow(img) \n",
    "    # break  \n",
    "\n",
    "    div_path = os.path.join(\n",
    "        str(pathlib.Path(im_path).parents[0]), \n",
    "        \"Div_3\", \n",
    "        im_path.split(os.sep)[-1].split(\".\")[0]+\"_div.png\"\n",
    "        )\n",
    "    os.makedirs(os.path.dirname(div_path), exist_ok=True)\n",
    "    cv2.imwrite(div_path,img)"
   ]
  }
 ],
 "metadata": {
  "kernelspec": {
   "display_name": "cellpose",
   "language": "python",
   "name": "python3"
  },
  "language_info": {
   "codemirror_mode": {
    "name": "ipython",
    "version": 3
   },
   "file_extension": ".py",
   "mimetype": "text/x-python",
   "name": "python",
   "nbconvert_exporter": "python",
   "pygments_lexer": "ipython3",
   "version": "3.8.15"
  },
  "orig_nbformat": 4,
  "vscode": {
   "interpreter": {
    "hash": "7cf831c40117d68663987ffaca5e7a78b351d1bd9696323579ea0b5ef7b310a0"
   }
  }
 },
 "nbformat": 4,
 "nbformat_minor": 2
}
