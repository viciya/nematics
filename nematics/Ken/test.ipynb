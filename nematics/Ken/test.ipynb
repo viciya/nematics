{
 "cells": [
  {
   "cell_type": "code",
   "execution_count": 1,
   "metadata": {
    "collapsed": true,
    "pycharm": {
     "name": "#%%\n"
    }
   },
   "outputs": [],
   "source": [
    "from image_series import *\n",
    "import pandas as pd\n",
    "import numpy as np\n",
    "import matplotlib.pyplot as plt\n",
    "import os\n",
    "import scipy as sp\n",
    "import numpy as np\n",
    "import pandas as pd\n",
    "import matplotlib.pyplot as plt\n",
    "import cv2\n",
    "# from skimage import feature, measure, restoration\n",
    "from defects import *\n",
    "from natsort import natsorted\n",
    "import glob\n"
   ]
  },
  {
   "cell_type": "code",
   "execution_count": 2,
   "outputs": [],
   "source": [
    "\n",
    "path = r\"C:\\Users\\user\\Desktop\\work\\test\\raw\"\n",
    "IS = image_series(path)"
   ],
   "metadata": {
    "collapsed": false,
    "pycharm": {
     "name": "#%%\n"
    }
   }
  },
  {
   "cell_type": "code",
   "execution_count": 3,
   "outputs": [
    {
     "name": "stderr",
     "output_type": "stream",
     "text": [
      "100%|██████████| 220/220 [02:35<00:00,  1.42it/s]\n"
     ]
    }
   ],
   "source": [
    "IS.run_all()"
   ],
   "metadata": {
    "collapsed": false,
    "pycharm": {
     "name": "#%%\n"
    }
   }
  },
  {
   "cell_type": "code",
   "execution_count": 6,
   "outputs": [],
   "source": [
    "    def velocity_averaging(self, window=None):\n",
    "        \"\"\"\n",
    "        takes all the images in the velocity and defect folders, crops a window around each\n",
    "        defect and tilts the velocity field around the defect.\n",
    "        save\n",
    "        \"\"\"\n",
    "        window = self.velocity_around_defect_window if window is None else window\n",
    "        half_window = np.floor(self.velocity_around_defect_window/2)\n",
    "        final_size = int(np.floor(half_window / np.sqrt(2)))\n",
    "\n",
    "        mean_arr_plus = np.zeros(shape=(final_size,final_size,2))\n",
    "        mean_arr_minus = np.zeros_like(mean_arr_plus)\n",
    "        total_number_of_minus,total_number_of_plus = 0,0\n",
    "        minus_defect_num = []\n",
    "        plus_defect_num = []\n",
    "        for img_num,img in enumerate(self.images):\n",
    "            #there is 1 less flow image thus we skip the last image\n",
    "            if img_num +1 >= len(self.images):\n",
    "                break\n",
    "\n",
    "            # get the dataframe and the array\n",
    "            min_path = self.defects_csv_path + img.name + '_MinusHalf.csv'\n",
    "            plus_path = self.defects_csv_path + img.name + '_PlusHalf.csv'\n",
    "            flow_path = self.velocity_path + 'velocity_from_' + img.name + '.npy'\n",
    "            minus_df = pd.read_csv(min_path, header=0, index_col=0)\n",
    "            plus_df = pd.read_csv(plus_path, header=0, index_col=0)\n",
    "            flow_arr = np.load(flow_path)\n",
    "            #minus\n",
    "            number_of_defects_minus, mean_arr_minus = img.crop_and_tilt( defects_df=minus_df,\n",
    "                                velocity_array= flow_arr,\n",
    "                                half_window=half_window,\n",
    "                                save= self.save_velocity,\n",
    "                                path=self.velocity_around_minus_path)\n",
    "            #plus\n",
    "            number_of_defects_plus, mean_arr_plus = img.crop_and_tilt( defects_df=plus_df,\n",
    "                                velocity_array=flow_arr,\n",
    "                                half_window=half_window,\n",
    "                                save=self.save_velocity,\n",
    "                                path=self.velocity_around_plus_path)\n",
    "\n",
    "            total_number_of_plus += number_of_defects_plus\n",
    "            total_number_of_minus += number_of_defects_minus\n",
    "            plus_defect_num.append(number_of_defects_plus)\n",
    "            minus_defect_num.append(number_of_defects_minus)\n",
    "\n",
    "            #save\n",
    "            if self.save_velocity:\n",
    "                np.save(self.velocity_around_minus_path + '_mean_arr_from_' + img.name + '.npy',mean_arr_minus)\n",
    "                np.save(self.velocity_around_plus_path + '_mean_arr_from_' + img.name + '.npy',mean_arr_plus)\n",
    "\n",
    "        #calculate average over the mean arrays\n",
    "        final_plus = np.zeros_like(mean_arr_plus)\n",
    "        final_minus = np.zeros_like(mean_arr_minus)\n",
    "\n",
    "        #add plus\n",
    "        array_list = glob.glob(self.velocity_around_plus_path + r\"\\*npy\")\n",
    "        array_list = natsorted(array_list, key=lambda y: y.lower())\n",
    "\n",
    "        for idx,arr_path in enumerate(array_list):\n",
    "\n",
    "            #there is 1 less flow image thus we skip the last image\n",
    "            if img_num +1 >= len(self.images):\n",
    "                break\n",
    "\n",
    "            arr = np.load(arr_path)\n",
    "            arr = arr * plus_defect_num[idx] / total_number_of_plus\n",
    "            final_plus += arr\n",
    "\n",
    "        #add minus\n",
    "        array_list = glob.glob(self.velocity_around_minus_path + r\"\\*npy\")\n",
    "        array_list = natsorted(array_list, key=lambda y: y.lower())\n",
    "\n",
    "        for idx,arr_path in enumerate(array_list):\n",
    "\n",
    "            #there is 1 less flow image thus we skip the last image\n",
    "            if img_num +1 >= len(self.images):\n",
    "                break\n",
    "            arr = np.load(arr_path)\n",
    "            arr = arr * minus_defect_num[idx] / total_number_of_minus\n",
    "            final_minus += arr\n",
    "\n",
    "        # save final\n",
    "        if self.save_velocity:\n",
    "            np.save(self.velocity_around_minus_path + 'final_average_minus' + '.npy',final_minus)\n",
    "            np.save(self.velocity_around_plus_path + 'final_average_plus' + '.npy',final_plus)\n"
   ],
   "metadata": {
    "collapsed": false,
    "pycharm": {
     "name": "#%%\n"
    }
   }
  }
 ],
 "metadata": {
  "kernelspec": {
   "name": "tf1",
   "language": "python",
   "display_name": "tf1_notebook"
  },
  "language_info": {
   "codemirror_mode": {
    "name": "ipython",
    "version": 2
   },
   "file_extension": ".py",
   "mimetype": "text/x-python",
   "name": "python",
   "nbconvert_exporter": "python",
   "pygments_lexer": "ipython2",
   "version": "2.7.6"
  }
 },
 "nbformat": 4,
 "nbformat_minor": 0
}