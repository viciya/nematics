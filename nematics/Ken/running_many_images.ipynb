{
 "cells": [
  {
   "cell_type": "code",
   "execution_count": 2,
   "metadata": {},
   "outputs": [],
   "source": [
    "import numpy as np\n",
    "import matplotlib.pyplot as plt\n",
    "import cv2\n",
    "import os\n",
    "import glob\n",
    "import scipy.io\n",
    "import os\n",
    "import sys\n",
    "import pandas as pd\n",
    "from PIL import Image\n",
    "\n",
    "import scipy.io\n",
    "\n",
    "from defects import *"
   ]
  },
  {
   "cell_type": "code",
   "execution_count": null,
   "metadata": {},
   "outputs": [],
   "source": [
    "pt = r\"D:\\work\\nematics\\nematics\\nematics\\Ken\\IO\\raw_images\\hbec\\*tif\"\n",
    "\n",
    "img_lst = glob.glob(pt)\n",
    "print(img_lst)"
   ]
  },
  {
   "cell_type": "code",
   "execution_count": 15,
   "metadata": {},
   "outputs": [],
   "source": [
    "# image_list = glob.glob(r\"D:\\work\\nematics\\nematics\\nematics\\_bacteria\\hbec_images\\raw\\test_flow\\*tif\")\n",
    "image_list = glob.glob(r\"D:\\work\\nematics\\nematics\\nematics\\Ken\\IO\\raw_images\\hbec\\*tif\")\n",
    "\n",
    "from natsort import natsorted\n",
    "image_list = natsorted(image_list, key=lambda y: y.lower())\n",
    "\n"
   ]
  },
  {
   "cell_type": "code",
   "execution_count": 28,
   "metadata": {},
   "outputs": [
    {
     "name": "stdout",
     "output_type": "stream",
     "text": [
      "<class 'str'>\n"
     ]
    }
   ],
   "source": [
    "print(type(image_list[0]))"
   ]
  },
  {
   "cell_type": "code",
   "execution_count": null,
   "metadata": {},
   "outputs": [],
   "source": [
    "PLOT  = True\n",
    "SAVE = False\n",
    "\n",
    "x, y = 0, 0\n",
    "win1, win2 = 600, 600\n",
    "window_size = 40\n",
    "\n",
    "for img_idx,im in enumerate(image_list):\n",
    "    \n",
    "    img = plt.imread(im)\n",
    "    # img = img[-np.min(img.shape):,-np.min(img.shape):]\n",
    "\n",
    "\n",
    "    ori, coh, E = orientation_analysis(img, 15)\n",
    "    k = compute_topological_charges(ori, int_area='cell', origin='upper')\n",
    "    defects = localize_defects(k, x_grid=xx, y_grid=yy)\n",
    "    compute_defect_orientations(ori, defects)\n",
    "    plushalf = defects[defects['charge']==.5]\n",
    "    minushalf = defects[defects['charge']==-.5]\n",
    "    \n",
    "    #### PLOT the image \n",
    "    if PLOT:\n",
    "        \n",
    "        pix_x = img.shape[1]\n",
    "        pix_y = img.shape[0]\n",
    "\n",
    "        x = np.arange(0,pix_x)\n",
    "        y = np.arange(0,pix_y)\n",
    "        xx,yy = np.meshgrid(x,y)\n",
    "        fig, ax  = plt.subplots(figsize=(16,16))\n",
    "        \n",
    "        \n",
    "        s = 15 \n",
    "        ax.imshow(img, cmap='gray')\n",
    "        # ax.quiver(xx[::s,::s], yy[::s,::s])\n",
    "        ax.quiver(xx[::s,::s], yy[::s,::s], \n",
    "            np.cos(ori)[::s,::s], np.sin(ori)[::s,::s], \n",
    "            headaxislength=0, headwidth=0, headlength=0, \n",
    "            color='lawngreen', scale=60, pivot='mid', alpha=.5)\n",
    "\n",
    "        ax.plot(plushalf['x'], plushalf['y'],'ro',markersize=10,label=r'+1/2 defect')\n",
    "        ax.quiver(plushalf['x'], plushalf['y'], \n",
    "            np.cos(plushalf['ang1']), np.sin(plushalf['ang1']), \n",
    "            headaxislength=0, headwidth=0, headlength=0, color='r', scale=50)\n",
    "\n",
    "        for i in range(3):\n",
    "            ax.quiver(minushalf['x'], minushalf['y'], \n",
    "                np.cos(minushalf['ang'+str(i+1)]), np.sin(minushalf['ang'+str(i+1)]), \n",
    "                headaxislength=0, headwidth=0, headlength=0, color='b', scale=50)\n",
    "\n",
    "\n",
    "    if img_idx>2:\n",
    "        break\n",
    "\n",
    "\n"
   ]
  },
  {
   "cell_type": "code",
   "execution_count": null,
   "metadata": {},
   "outputs": [],
   "source": [
    "PLOT  = True\n",
    "SAVE = False\n",
    "\n",
    "x, y = 0, 0\n",
    "win1, win2 = 600, 600\n",
    "\n",
    "for (i,im1), im2 in zip(enumerate(image_list[:-1]),image_list[1:]):\n",
    "\n",
    "    img1 = cv2.imread(im1)[:,:,0]\n",
    "    img2 = cv2.imread(im2)[:,:,0]\n",
    "\n",
    "    # fig, axs = plt.subplots(2,1)\n",
    "    # axs = axs.flatten()\n",
    "    # axs[0].imshow(img1, cmap=\"gray\")\n",
    "    # axs[1].imshow(img2, cmap=\"gray\")\n",
    "\n",
    "\n",
    "    flow = cv2.calcOpticalFlowFarneback(img1,img2, None, 0.5, 3, \n",
    "        winsize=61, iterations=3, poly_n=5, poly_sigma=1.2, flags=0)\n",
    "\n",
    "    if PLOT:\n",
    "        fig = plt.figure(figsize=(15,10))\n",
    "        step = 15\n",
    "        plt.imshow(img1, cmap=\"gray\")\n",
    "        # x, y = np.arange(0, flow.shape[1], step), np.arange(flow.shape[0]-step, -1, -step)\n",
    "        x = np.arange(0, flow.shape[1], step, dtype=np.int32)\n",
    "        y = np.arange(0, flow.shape[0], step, dtype=np.int32)\n",
    "        plt.quiver(x,y, \n",
    "                flow[::step, ::step, 0], -flow[::step, ::step, 1], color=\"red\")\n",
    "        # plt.tight_layout()\n",
    "        plt.show()\n",
    "        save_path = os.path.join(os.path.dirname(image_list[i]),'flow_%d.png' % i)\n",
    "        os.makedirs(os.path.dirname(save_path), exist_ok=True)\n",
    "        fig.savefig(save_path)\n",
    "        plt.cla()\n",
    "    \n",
    "\n",
    "    \n",
    "    if SAVE:\n",
    "        save_path = os.path.join(\n",
    "            os.path.dirname(image_list[i]), \n",
    "            'OptFlow', \n",
    "            os.path.splitext(os.path.basename(image_list[i]))[0] + '.mat'\n",
    "            )\n",
    "        # break\n",
    "        os.makedirs(os.path.dirname(save_path), exist_ok=True)\n",
    "        scipy.io.savemat(save_path, dict(u=flow[:,:,0], v=flow[:,:,1]))\n",
    "        # \"C:\\Users\\USER\\Downloads\\B-sub-sur-minus-in-supernatant-40X-100fps\\OptFlow\\test.mat\"\n",
    "\n",
    "\n",
    "    # break\n",
    "\n"
   ]
  },
  {
   "attachments": {},
   "cell_type": "markdown",
   "metadata": {},
   "source": [
    "#test class workflow on 5 images"
   ]
  },
  {
   "cell_type": "code",
   "execution_count": 57,
   "metadata": {},
   "outputs": [
    {
     "ename": "TypeError",
     "evalue": "'type' object is not iterable",
     "output_type": "error",
     "traceback": [
      "\u001b[1;31m---------------------------------------------------------------------------\u001b[0m",
      "\u001b[1;31mTypeError\u001b[0m                                 Traceback (most recent call last)",
      "\u001b[1;32md:\\work\\nematics\\nematics\\nematics\\Ken\\running_many_images.ipynb Cell 8\u001b[0m in \u001b[0;36m<cell line: 5>\u001b[1;34m()\u001b[0m\n\u001b[0;32m      <a href='vscode-notebook-cell:/d%3A/work/nematics/nematics/nematics/Ken/running_many_images.ipynb#X15sZmlsZQ%3D%3D?line=1'>2</a>\u001b[0m \u001b[39mfrom\u001b[39;00m \u001b[39mworkflow\u001b[39;00m \u001b[39mimport\u001b[39;00m \u001b[39m*\u001b[39m\n\u001b[0;32m      <a href='vscode-notebook-cell:/d%3A/work/nematics/nematics/nematics/Ken/running_many_images.ipynb#X15sZmlsZQ%3D%3D?line=3'>4</a>\u001b[0m WF \u001b[39m=\u001b[39m workflow(path)\n\u001b[1;32m----> <a href='vscode-notebook-cell:/d%3A/work/nematics/nematics/nematics/Ken/running_many_images.ipynb#X15sZmlsZQ%3D%3D?line=4'>5</a>\u001b[0m WF\u001b[39m.\u001b[39;49mfetch_data()\n\u001b[0;32m      <a href='vscode-notebook-cell:/d%3A/work/nematics/nematics/nematics/Ken/running_many_images.ipynb#X15sZmlsZQ%3D%3D?line=5'>6</a>\u001b[0m PH,MH \u001b[39m=\u001b[39m WF\u001b[39m.\u001b[39mdetect_minus_plus()\n",
      "File \u001b[1;32md:\\work\\nematics\\nematics\\nematics\\Ken\\workflow.py:62\u001b[0m, in \u001b[0;36mworkflow.fetch_data\u001b[1;34m(self)\u001b[0m\n\u001b[0;32m     59\u001b[0m image_list \u001b[39m=\u001b[39m glob\u001b[39m.\u001b[39mglob(\u001b[39mr\u001b[39m\u001b[39m\"\u001b[39m\u001b[39mD:\u001b[39m\u001b[39m\\\u001b[39m\u001b[39mwork\u001b[39m\u001b[39m\\\u001b[39m\u001b[39mnematics\u001b[39m\u001b[39m\\\u001b[39m\u001b[39mnematics\u001b[39m\u001b[39m\\\u001b[39m\u001b[39mnematics\u001b[39m\u001b[39m\\\u001b[39m\u001b[39mKen\u001b[39m\u001b[39m\\\u001b[39m\u001b[39mIO\u001b[39m\u001b[39m\\\u001b[39m\u001b[39mraw_images\u001b[39m\u001b[39m\\\u001b[39m\u001b[39mhbec\u001b[39m\u001b[39m\\\u001b[39m\u001b[39m*tif\u001b[39m\u001b[39m\"\u001b[39m)\n\u001b[0;32m     60\u001b[0m image_list \u001b[39m=\u001b[39m natsorted(image_list, key\u001b[39m=\u001b[39m\u001b[39mlambda\u001b[39;00m y: y\u001b[39m.\u001b[39mlower())\n\u001b[1;32m---> 62\u001b[0m \u001b[39mfor\u001b[39;00m image_path \u001b[39min\u001b[39;00m image:\n\u001b[0;32m     63\u001b[0m     \u001b[39mself\u001b[39m\u001b[39m.\u001b[39mimages\u001b[39m.\u001b[39mappend( image( image_path))\n",
      "\u001b[1;31mTypeError\u001b[0m: 'type' object is not iterable"
     ]
    }
   ],
   "source": [
    "path =r\"D:\\work\\nematics\\nematics\\nematics\\Ken\\IO\\raw_images\\test\"\n",
    "from workflow import *\n",
    "\n",
    "WF = workflow(path)\n",
    "WF.fetch_data()\n",
    "PH,MH = WF.detect_minus_plus()\n"
   ]
  }
 ],
 "metadata": {
  "kernelspec": {
   "display_name": "tf1",
   "language": "python",
   "name": "python3"
  },
  "language_info": {
   "codemirror_mode": {
    "name": "ipython",
    "version": 3
   },
   "file_extension": ".py",
   "mimetype": "text/x-python",
   "name": "python",
   "nbconvert_exporter": "python",
   "pygments_lexer": "ipython3",
   "version": "3.10.8"
  },
  "orig_nbformat": 4,
  "vscode": {
   "interpreter": {
    "hash": "4cdb726c2f5bc97357d72c6217949fcd02d3e3afd7d02359f820b31abc5a097c"
   }
  }
 },
 "nbformat": 4,
 "nbformat_minor": 2
}
